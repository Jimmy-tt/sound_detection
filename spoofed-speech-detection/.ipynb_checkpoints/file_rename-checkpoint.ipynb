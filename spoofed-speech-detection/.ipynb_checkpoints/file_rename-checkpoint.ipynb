{
 "cells": [
  {
   "cell_type": "code",
   "execution_count": 8,
   "metadata": {},
   "outputs": [
    {
     "name": "stdout",
     "output_type": "stream",
     "text": [
      "ELJ1\n",
      "E10074223.wav\n",
      "E10178190.wav\n",
      "E10143128.wav\n",
      "E10002676.wav\n",
      "E10107911.wav\n",
      "E10002659.wav\n",
      "E10038023.wav\n",
      "E10143244.wav\n",
      "E10107874.wav\n",
      "E10107820.wav\n",
      "E10037969.wav\n",
      "E10074266.wav\n",
      "E10107661.wav\n",
      "E10038096.wav\n",
      "E10074331.wav\n",
      "E10002605.wav\n",
      "E10178230.wav\n",
      "E10143078.wav\n",
      "E10178206.wav\n",
      "E10074190.wav\n"
     ]
    }
   ],
   "source": [
    "import os\n",
    "\n",
    "METHOD = \"tacotron/\"                                 #拓展方法，作为该文件夹总名称\n",
    "WAV_FOLDER = \"/data/chendan/wav/append/\" + METHOD    #拓展方法./WAV文件夹,WAV文件夹下文件应全部为*.wav\n",
    "subfolders = ['ELJ1']\n",
    "\n",
    "n_subfls = len(subfolders)\n",
    "for folder in subfolders[0:n_subfls]:\n",
    "    k = 1\n",
    "    print(folder)\n",
    "    new_folder = \"\".join((WAV_FOLDER,folder,'/'))\n",
    "    \n",
    "    f_list = os.listdir(new_folder)\n",
    "    for f_name in f_list:\n",
    "        print(f_name)\n",
    "        if os.path.isfile(os.path.join(new_folder,f_name)) == True:\n",
    "            new_name=f_name.replace(f_name,folder+\"%.4d.wav\"%k)\n",
    "            os.rename(os.path.join(new_folder,f_name),os.path.join(new_folder,new_name))\n",
    "            k = k + 1\n",
    "\n",
    "EXT = \".wav\""
   ]
  },
  {
   "cell_type": "code",
   "execution_count": null,
   "metadata": {},
   "outputs": [],
   "source": []
  }
 ],
 "metadata": {
  "kernelspec": {
   "display_name": "Python [conda env:bob_py3]",
   "language": "python",
   "name": "conda-env-bob_py3-py"
  },
  "language_info": {
   "codemirror_mode": {
    "name": "ipython",
    "version": 3
   },
   "file_extension": ".py",
   "mimetype": "text/x-python",
   "name": "python",
   "nbconvert_exporter": "python",
   "pygments_lexer": "ipython3",
   "version": "3.7.4"
  }
 },
 "nbformat": 4,
 "nbformat_minor": 2
}
