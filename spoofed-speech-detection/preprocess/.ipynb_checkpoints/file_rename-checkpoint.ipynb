{
 "cells": [
  {
   "cell_type": "code",
   "execution_count": 3,
   "metadata": {},
   "outputs": [
    {
     "name": "stdout",
     "output_type": "stream",
     "text": [
      "NICK_215k\n",
      "10 Large size in stockings is hard to sell..mp3\n",
      "18 cjkCaCgm3ZCh.128.mp3\n",
      "16 A pot of tea helps to pass the evening..mp3\n",
      "15 Help the woman get back to her feet..mp3\n",
      "05.mp3\n",
      "09.mp3\n",
      "17 Smoky fires lack flame and heat..mp3\n",
      "01.mp3\n",
      "14 Kick the ball straight and follow through..mp3\n",
      "20 The girl at the booth sold fifty bonds..mp3\n",
      "13 The source of the huge river is the clear spring..mp3\n",
      "11 The boy was there when the sun rose..mp3\n",
      "03.mp3\n",
      "04.mp3\n",
      "06.mp3\n",
      "08.mp3\n",
      "02.mp3\n",
      "07.mp3\n",
      "12 A rod is used to catch pink salmon..mp3\n",
      "19 The salt breeze came across from the sea..mp3\n",
      "WEB_183k\n",
      "10 Large size in stockings is hard to sell..mp3\n",
      "16 A pot of tea helps to pass the evening..mp3\n",
      "15 Help the woman get back to her feet..mp3\n",
      "05.mp3\n",
      "09.mp3\n",
      "17 Smoky fires lack flame and heat..mp3\n",
      "18 CoEIezSdCoqm.128.mp3\n",
      "01.mp3\n",
      "14 Kick the ball straight and follow through..mp3\n",
      "20 The girl at the booth sold fifty bonds..mp3\n",
      "13 The source of the huge river is the clear spring..mp3\n",
      "11 The boy was there when the sun rose..mp3\n",
      "03.mp3\n",
      "04.mp3\n",
      "06.mp3\n",
      "08.mp3\n",
      "02.mp3\n",
      "07.mp3\n",
      "12 A rod is used to catch pink salmon..mp3\n",
      "19 The salt breeze came across from the sea..mp3\n"
     ]
    }
   ],
   "source": [
    "import os\n",
    "\n",
    "METHOD = \"tacotron/\"                                 #拓展方法，作为该文件夹总名称\n",
    "WAV_FOLDER = \"/data/chendan/wav/append/\" + METHOD    #拓展方法./WAV文件夹,WAV文件夹下文件应全部为*.wav\n",
    "subfolders = ['ENICK1','EWEB1']\n",
    "EXT = \".wav\"    #根据文件后缀修改，目前可以为.mp3和.wav\n",
    "\n",
    "n_subfls = len(subfolders)\n",
    "for folder in subfolders[0:n_subfls]:\n",
    "    k = 1\n",
    "    print(folder)\n",
    "    new_folder = \"\".join((WAV_FOLDER,folder,'/'))\n",
    "    \n",
    "    f_list = os.listdir(new_folder)\n",
    "    for f_name in f_list:\n",
    "        print(f_name)\n",
    "        if os.path.isfile(os.path.join(new_folder,f_name)) == True:\n",
    "            new_name=f_name.replace(f_name,folder+\"%.4d\"%k + EXT)\n",
    "            new_file_path = os.path.join(new_folder,new_name)\n",
    "            os.rename(os.path.join(new_folder,f_name),new_file_path)\n",
    "            if EXT == \".mp3\":\n",
    "                cmd1 = 'ffmpeg -i ' + new_file_path + ' -f wav -y ' + new_file_path[:-len(EXT)] + '.wav'\n",
    "                os.system(cmd1)\n",
    "                cmd2 = 'find ' + new_file_path + '|xargs rm -rf'\n",
    "                os.system(cmd2)\n",
    "            k = k + 1\n",
    "   "
   ]
  },
  {
   "cell_type": "code",
   "execution_count": null,
   "metadata": {},
   "outputs": [],
   "source": []
  }
 ],
 "metadata": {
  "kernelspec": {
   "display_name": "Python [conda env:bob_py3]",
   "language": "python",
   "name": "conda-env-bob_py3-py"
  },
  "language_info": {
   "codemirror_mode": {
    "name": "ipython",
    "version": 3
   },
   "file_extension": ".py",
   "mimetype": "text/x-python",
   "name": "python",
   "nbconvert_exporter": "python",
   "pygments_lexer": "ipython3",
   "version": "3.7.4"
  }
 },
 "nbformat": 4,
 "nbformat_minor": 2
}
