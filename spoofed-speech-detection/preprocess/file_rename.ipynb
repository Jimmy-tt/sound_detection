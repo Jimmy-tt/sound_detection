{
 "cells": [
  {
   "cell_type": "code",
   "execution_count": 4,
   "metadata": {},
   "outputs": [
    {
     "name": "stdout",
     "output_type": "stream",
     "text": [
      "ENICK1\n",
      "NICK_215k0007.wav\n",
      "NICK_215k0004.wav\n",
      "NICK_215k0019.wav\n",
      "NICK_215k0008.wav\n",
      "NICK_215k0002.wav\n",
      "NICK_215k0005.wav\n",
      "NICK_215k0012.wav\n",
      "NICK_215k0016.wav\n",
      "NICK_215k0001.wav\n",
      "NICK_215k0006.wav\n",
      "NICK_215k0011.wav\n",
      "NICK_215k0017.wav\n",
      "NICK_215k0020.wav\n",
      "NICK_215k0010.wav\n",
      "NICK_215k0013.wav\n",
      "NICK_215k0018.wav\n",
      "NICK_215k0015.wav\n",
      "NICK_215k0009.wav\n",
      "NICK_215k0003.wav\n",
      "NICK_215k0014.wav\n",
      "EWEB1\n",
      "WEB_183k0015.wav\n",
      "WEB_183k0012.wav\n",
      "WEB_183k0018.wav\n",
      "WEB_183k0017.wav\n",
      "WEB_183k0009.wav\n",
      "WEB_183k0008.wav\n",
      "WEB_183k0013.wav\n",
      "WEB_183k0010.wav\n",
      "WEB_183k0001.wav\n",
      "WEB_183k0019.wav\n",
      "WEB_183k0004.wav\n",
      "WEB_183k0005.wav\n",
      "WEB_183k0002.wav\n",
      "WEB_183k0016.wav\n",
      "WEB_183k0020.wav\n",
      "WEB_183k0011.wav\n",
      "WEB_183k0003.wav\n",
      "WEB_183k0014.wav\n",
      "WEB_183k0006.wav\n",
      "WEB_183k0007.wav\n"
     ]
    }
   ],
   "source": [
    "import os\n",
    "\n",
    "METHOD = \"tacotron/\"                                 #拓展方法，作为该文件夹总名称\n",
    "WAV_FOLDER = \"/data/chendan/wav/append/\" + METHOD    #拓展方法./WAV文件夹,WAV文件夹下文件应全部为*.wav\n",
    "subfolders = ['ENICK1','EWEB1']\n",
    "EXT = \".wav\"    #根据文件后缀修改，目前可以为.mp3和.wav\n",
    "\n",
    "n_subfls = len(subfolders)\n",
    "for folder in subfolders[0:n_subfls]:\n",
    "    k = 1\n",
    "    print(folder)\n",
    "    new_folder = \"\".join((WAV_FOLDER,folder,'/'))\n",
    "    \n",
    "    f_list = os.listdir(new_folder)\n",
    "    for f_name in f_list:\n",
    "        print(f_name)\n",
    "        if os.path.isfile(os.path.join(new_folder,f_name)) == True:\n",
    "            new_name=f_name.replace(f_name,folder+\"%.4d\"%k + EXT)\n",
    "            new_file_path = os.path.join(new_folder,new_name)\n",
    "            os.rename(os.path.join(new_folder,f_name),new_file_path)\n",
    "            if EXT == \".mp3\":\n",
    "                cmd1 = 'ffmpeg -i ' + new_file_path + ' -f wav -y ' + new_file_path[:-len(EXT)] + '.wav'\n",
    "                os.system(cmd1)\n",
    "                cmd2 = 'find ' + new_file_path + '|xargs rm -rf'\n",
    "                os.system(cmd2)\n",
    "            k = k + 1\n",
    "   "
   ]
  },
  {
   "cell_type": "code",
   "execution_count": null,
   "metadata": {},
   "outputs": [],
   "source": []
  }
 ],
 "metadata": {
  "kernelspec": {
   "display_name": "Python [conda env:bob_py3]",
   "language": "python",
   "name": "conda-env-bob_py3-py"
  },
  "language_info": {
   "codemirror_mode": {
    "name": "ipython",
    "version": 3
   },
   "file_extension": ".py",
   "mimetype": "text/x-python",
   "name": "python",
   "nbconvert_exporter": "python",
   "pygments_lexer": "ipython3",
   "version": "3.7.4"
  }
 },
 "nbformat": 4,
 "nbformat_minor": 2
}
